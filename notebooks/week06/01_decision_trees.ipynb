{
 "cells": [
  {
   "cell_type": "markdown",
   "id": "68af0c40",
   "metadata": {},
   "source": [
    "# Decision Trees"
   ]
  },
  {
   "cell_type": "markdown",
   "id": "c493e625",
   "metadata": {},
   "source": [
    "## Exercise 1\n",
    "Train a decision tree classifier."
   ]
  },
  {
   "cell_type": "code",
   "execution_count": null,
   "id": "29903f1d",
   "metadata": {},
   "outputs": [],
   "source": [
    "from sklearn.tree import DecisionTreeClassifier\n",
    "import numpy as np\n",
    "X = np.array([[0],[1],[2],[3]])\n",
    "y = np.array([0,0,1,1])\n",
    "clf = DecisionTreeClassifier().fit(X,y)\n",
    "print(clf.predict([[1.5]]))"
   ]
  }
 ],
 "metadata": {},
 "nbformat": 4,
 "nbformat_minor": 5
}
