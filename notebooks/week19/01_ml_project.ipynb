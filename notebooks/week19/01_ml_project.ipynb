{
 "cells": [
  {
   "cell_type": "markdown",
   "id": "f415ff58",
   "metadata": {},
   "source": [
    "# End-to-End ML Project"
   ]
  },
  {
   "cell_type": "markdown",
   "id": "191a92b8",
   "metadata": {},
   "source": [
    "## Exercise 1\n",
    "Load a dataset, preprocess it, and train a model."
   ]
  },
  {
   "cell_type": "code",
   "execution_count": null,
   "id": "11ea596d",
   "metadata": {},
   "outputs": [],
   "source": [
    "import pandas as pd\n",
    "from sklearn.model_selection import train_test_split\n",
    "from sklearn.linear_model import LogisticRegression\n",
    "\n",
    "# Load\n",
    "url = 'https://raw.githubusercontent.com/mwaskom/seaborn-data/master/iris.csv'\n",
    "df = pd.read_csv(url)\n",
    "\n",
    "# Prep\n",
    "X = df.drop('species',axis=1)\n",
    "y = df['species']\n",
    "X_train,X_test,y_train,y_test=train_test_split(X,y,test_size=0.2,random_state=42)\n",
    "\n",
    "# Train\n",
    "clf = LogisticRegression(max_iter=200).fit(X_train,y_train)\n",
    "print('Accuracy:', clf.score(X_test,y_test))"
   ]
  }
 ],
 "metadata": {},
 "nbformat": 4,
 "nbformat_minor": 5
}
