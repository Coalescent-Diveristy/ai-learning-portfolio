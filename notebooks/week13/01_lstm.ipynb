{
 "cells": [
  {
   "cell_type": "markdown",
   "id": "ce243a6f",
   "metadata": {},
   "source": [
    "# LSTMs"
   ]
  },
  {
   "cell_type": "markdown",
   "id": "490f9794",
   "metadata": {},
   "source": [
    "## Exercise 1\n",
    "Build a simple LSTM model."
   ]
  },
  {
   "cell_type": "code",
   "execution_count": null,
   "id": "4240957f",
   "metadata": {},
   "outputs": [],
   "source": [
    "from tensorflow.keras import layers, models\n",
    "model = models.Sequential([\n",
    "    layers.LSTM(32,input_shape=(10,1)),\n",
    "    layers.Dense(1)\n",
    "])\n",
    "model.summary()"
   ]
  }
 ],
 "metadata": {},
 "nbformat": 4,
 "nbformat_minor": 5
}
