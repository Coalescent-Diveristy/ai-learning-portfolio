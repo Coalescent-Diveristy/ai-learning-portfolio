{
 "cells": [
  {
   "cell_type": "markdown",
   "id": "9e7cddf1",
   "metadata": {},
   "source": [
    "# Support Vector Machines"
   ]
  },
  {
   "cell_type": "markdown",
   "id": "e5ecdaad",
   "metadata": {},
   "source": [
    "## Exercise 1\n",
    "Train a simple SVM classifier."
   ]
  },
  {
   "cell_type": "code",
   "execution_count": null,
   "id": "221c010c",
   "metadata": {},
   "outputs": [],
   "source": [
    "from sklearn.svm import SVC\n",
    "import numpy as np\n",
    "X = np.array([[0,0],[1,1],[1,0],[0,1]])\n",
    "y = [0,1,0,1]\n",
    "clf = SVC().fit(X,y)\n",
    "print(clf.predict([[0.9,0.9]]))"
   ]
  }
 ],
 "metadata": {},
 "nbformat": 4,
 "nbformat_minor": 5
}
