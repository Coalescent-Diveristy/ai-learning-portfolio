{
 "cells": [
  {
   "cell_type": "markdown",
   "id": "01e5837d",
   "metadata": {},
   "source": [
    "# Generative Adversarial Networks"
   ]
  },
  {
   "cell_type": "markdown",
   "id": "0165b1f5",
   "metadata": {},
   "source": [
    "# GANs\n",
    "\n",
    "GANs involve two networks: a **generator** and a **discriminator**.  \n",
    "They compete in a zero-sum game.\n",
    "\n",
    "**Why it matters:**\n",
    "- Generates realistic images, audio, video\n",
    "- Used in art, super-resolution, data augmentation\n",
    "\n",
    "**Key ideas:**\n",
    "- Generator tries to fool the discriminator\n",
    "- Discriminator distinguishes real vs fake\n"
   ]
  },
  {
   "cell_type": "code",
   "execution_count": null,
   "id": "c14e774d",
   "metadata": {},
   "outputs": [],
   "source": [
    "import tensorflow as tf\n",
    "from tensorflow.keras import layers\n",
    "\n",
    "# Simple GAN generator\n",
    "generator = tf.keras.Sequential([\n",
    "    layers.Dense(16, activation=\"relu\", input_shape=(10,)),\n",
    "    layers.Dense(1, activation=\"sigmoid\")\n",
    "])\n",
    "print(generator.summary())"
   ]
  },
  {
   "cell_type": "markdown",
   "id": "4305b4bb",
   "metadata": {},
   "source": [
    "## Exercises\n",
    "\n",
    "Try these on your own:\n",
    "- Modify the example above\n",
    "- Add a new dataset or parameter\n",
    "- Visualize results\n"
   ]
  },
  {
   "cell_type": "code",
   "execution_count": null,
   "id": "575c3d65",
   "metadata": {},
   "outputs": [],
   "source": [
    "# Your code here\n"
   ]
  }
 ],
 "metadata": {},
 "nbformat": 4,
 "nbformat_minor": 5
}
