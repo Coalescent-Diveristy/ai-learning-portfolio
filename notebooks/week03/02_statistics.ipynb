{
 "cells": [
  {
   "cell_type": "markdown",
   "id": "d0652cf7",
   "metadata": {},
   "source": [
    "# Basic Statistics"
   ]
  },
  {
   "cell_type": "markdown",
   "id": "81b21ac0",
   "metadata": {},
   "source": [
    "## Exercise 1\n",
    "Compute mean and median of an array."
   ]
  },
  {
   "cell_type": "code",
   "execution_count": null,
   "id": "600df361",
   "metadata": {},
   "outputs": [],
   "source": [
    "import numpy as np\n",
    "data = [5,10,15,20]\n",
    "print('Mean:', np.mean(data))\n",
    "print('Median:', np.median(data))"
   ]
  }
 ],
 "metadata": {},
 "nbformat": 4,
 "nbformat_minor": 5
}
