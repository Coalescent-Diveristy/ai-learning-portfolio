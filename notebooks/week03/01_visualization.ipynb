{
 "cells": [
  {
   "cell_type": "markdown",
   "id": "9f744e98",
   "metadata": {},
   "source": [
    "# Data Visualization (Matplotlib)"
   ]
  },
  {
   "cell_type": "markdown",
   "id": "3753ae7c",
   "metadata": {},
   "source": [
    "## Exercise 1\n",
    "Plot a simple line graph of sales."
   ]
  },
  {
   "cell_type": "code",
   "execution_count": null,
   "id": "2e6e76be",
   "metadata": {},
   "outputs": [],
   "source": [
    "import matplotlib.pyplot as plt\n",
    "sales = [100,200,300,250]\n",
    "plt.plot(sales)\n",
    "plt.title('Sales Over Time')\n",
    "plt.show()"
   ]
  }
 ],
 "metadata": {},
 "nbformat": 4,
 "nbformat_minor": 5
}
