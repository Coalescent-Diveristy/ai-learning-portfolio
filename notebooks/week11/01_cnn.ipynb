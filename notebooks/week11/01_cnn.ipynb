{
 "cells": [
  {
   "cell_type": "markdown",
   "id": "dfefecb3",
   "metadata": {},
   "source": [
    "# Convolutional Neural Networks"
   ]
  },
  {
   "cell_type": "markdown",
   "id": "4dd471c5",
   "metadata": {},
   "source": [
    "## Exercise 1\n",
    "Build a simple CNN for image data."
   ]
  },
  {
   "cell_type": "code",
   "execution_count": null,
   "id": "707ab401",
   "metadata": {},
   "outputs": [],
   "source": [
    "from tensorflow.keras import layers, models\n",
    "model = models.Sequential([\n",
    "    layers.Conv2D(32,(3,3),activation='relu',input_shape=(28,28,1)),\n",
    "    layers.MaxPooling2D((2,2)),\n",
    "    layers.Flatten(),\n",
    "    layers.Dense(10,activation='softmax')\n",
    "])\n",
    "model.summary()"
   ]
  }
 ],
 "metadata": {},
 "nbformat": 4,
 "nbformat_minor": 5
}
