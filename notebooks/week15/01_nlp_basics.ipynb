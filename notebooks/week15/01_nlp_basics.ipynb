{
 "cells": [
  {
   "cell_type": "markdown",
   "id": "f70056c5",
   "metadata": {},
   "source": [
    "# Natural Language Processing Basics"
   ]
  },
  {
   "cell_type": "markdown",
   "id": "b123c683",
   "metadata": {},
   "source": [
    "## Exercise 1\n",
    "Tokenize a text using NLTK."
   ]
  },
  {
   "cell_type": "code",
   "execution_count": null,
   "id": "c4249b27",
   "metadata": {},
   "outputs": [],
   "source": [
    "import nltk\n",
    "nltk.download('punkt')\n",
    "from nltk.tokenize import word_tokenize\n",
    "print(word_tokenize('Artificial Intelligence is fascinating.'))"
   ]
  }
 ],
 "metadata": {},
 "nbformat": 4,
 "nbformat_minor": 5
}
