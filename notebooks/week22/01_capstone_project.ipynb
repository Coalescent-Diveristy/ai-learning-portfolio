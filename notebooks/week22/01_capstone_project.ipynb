{
 "cells": [
  {
   "cell_type": "markdown",
   "id": "d17ad562",
   "metadata": {},
   "source": [
    "# Capstone Project - End-to-End AI"
   ]
  },
  {
   "cell_type": "markdown",
   "id": "750cdb20",
   "metadata": {},
   "source": [
    "## Task\n",
    "Choose a dataset and build a full pipeline: data cleaning → model training → evaluation → deployment-ready artifact."
   ]
  }
 ],
 "metadata": {},
 "nbformat": 4,
 "nbformat_minor": 5
}
