{
 "cells": [
  {
   "cell_type": "markdown",
   "id": "c39c95f8",
   "metadata": {},
   "source": [
    "# NumPy & Pandas"
   ]
  },
  {
   "cell_type": "markdown",
   "id": "e07adf9a",
   "metadata": {},
   "source": [
    "# NumPy & Pandas\n",
    "\n",
    "NumPy and Pandas are the backbone of data science in Python.\n",
    "\n",
    "**NumPy:**\n",
    "- Efficient handling of arrays and matrices\n",
    "- Supports vectorized operations\n",
    "\n",
    "**Pandas:**\n",
    "- High-level data manipulation with DataFrames\n",
    "- Easy filtering, grouping, and aggregation\n",
    "\n",
    "**Why it matters:**\n",
    "Most AI workflows start with cleaning and preparing data. NumPy and Pandas make this possible.\n"
   ]
  },
  {
   "cell_type": "code",
   "execution_count": null,
   "id": "bdd3c17f",
   "metadata": {},
   "outputs": [],
   "source": [
    "import numpy as np\n",
    "import pandas as pd\n",
    "\n",
    "arr = np.array([1, 2, 3, 4, 5])\n",
    "print(\"Mean:\", arr.mean())\n",
    "\n",
    "df = pd.DataFrame({\"A\": [1,2,3], \"B\": [4,5,6]})\n",
    "print(df.describe())"
   ]
  },
  {
   "cell_type": "markdown",
   "id": "8dcc0e37",
   "metadata": {},
   "source": [
    "## Exercises\n",
    "\n",
    "Try these on your own:\n",
    "- Modify the example above\n",
    "- Add a new dataset or parameter\n",
    "- Visualize results\n"
   ]
  },
  {
   "cell_type": "code",
   "execution_count": null,
   "id": "910c226c",
   "metadata": {},
   "outputs": [],
   "source": [
    "# Your code here\n"
   ]
  }
 ],
 "metadata": {},
 "nbformat": 4,
 "nbformat_minor": 5
}
