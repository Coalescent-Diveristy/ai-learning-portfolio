{
 "cells": [
  {
   "cell_type": "markdown",
   "id": "2796de3a",
   "metadata": {},
   "source": [
    "# NumPy & Pandas\n",
    "\n",
    "Explore NumPy arrays and Pandas DataFrames for data manipulation.\n"
   ]
  },
  {
   "cell_type": "code",
   "execution_count": null,
   "id": "a7b90da0",
   "metadata": {},
   "outputs": [],
   "source": [
    "# Demo code example for NumPy & Pandas"
   ]
  },
  {
   "cell_type": "markdown",
   "id": "c6bf955e",
   "metadata": {},
   "source": [
    "## Exercise: NumPy & Pandas Practice\n",
    "\n",
    "- Apply NumPy & Pandas to a dataset or task.\n",
    "- Experiment with parameters.\n",
    "- Visualize results.\n",
    "- Reflect on what you learned.\n"
   ]
  },
  {
   "cell_type": "code",
   "execution_count": null,
   "id": "c09d085e",
   "metadata": {},
   "outputs": [],
   "source": [
    "# Your code here\n"
   ]
  }
 ],
 "metadata": {},
 "nbformat": 4,
 "nbformat_minor": 5
}
