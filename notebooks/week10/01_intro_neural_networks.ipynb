{
 "cells": [
  {
   "cell_type": "markdown",
   "id": "ee42fda8",
   "metadata": {},
   "source": [
    "# Neural Networks"
   ]
  },
  {
   "cell_type": "markdown",
   "id": "dc24c531",
   "metadata": {},
   "source": [
    "## Exercise 1\n",
    "Build a simple feedforward NN in Keras."
   ]
  },
  {
   "cell_type": "code",
   "execution_count": null,
   "id": "14fc9d9a",
   "metadata": {},
   "outputs": [],
   "source": [
    "from tensorflow import keras\n",
    "from tensorflow.keras import layers\n",
    "model = keras.Sequential([\n",
    "    layers.Dense(8, activation='relu', input_shape=(4,)),\n",
    "    layers.Dense(1, activation='sigmoid')\n",
    "])\n",
    "model.compile(optimizer='adam', loss='binary_crossentropy')\n",
    "model.summary()"
   ]
  }
 ],
 "metadata": {},
 "nbformat": 4,
 "nbformat_minor": 5
}
