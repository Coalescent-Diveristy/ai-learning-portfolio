{
 "cells": [
  {
   "cell_type": "markdown",
   "id": "a76129b1",
   "metadata": {},
   "source": [
    "# Data Types & Variables"
   ]
  },
  {
   "cell_type": "markdown",
   "id": "7ad7003f",
   "metadata": {},
   "source": [
    "## Exercise 1\n",
    "Create integer, float, string, and boolean variables."
   ]
  },
  {
   "cell_type": "code",
   "execution_count": null,
   "id": "1fb80dc4",
   "metadata": {},
   "outputs": [],
   "source": [
    "age = 25\n",
    "height = 5.9\n",
    "name = 'Alice'\n",
    "is_student = True\n",
    "print(age, height, name, is_student)"
   ]
  }
 ],
 "metadata": {},
 "nbformat": 4,
 "nbformat_minor": 5
}
