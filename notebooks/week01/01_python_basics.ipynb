{
 "cells": [
  {
   "cell_type": "markdown",
   "id": "64181169",
   "metadata": {},
   "source": [
    "# Python Basics"
   ]
  },
  {
   "cell_type": "markdown",
   "id": "d06cc214",
   "metadata": {},
   "source": [
    "## Exercise 1\n",
    "Print `Hello, AI!`"
   ]
  },
  {
   "cell_type": "code",
   "execution_count": null,
   "id": "ad28217c",
   "metadata": {},
   "outputs": [],
   "source": [
    "print('Hello, AI!')"
   ]
  }
 ],
 "metadata": {},
 "nbformat": 4,
 "nbformat_minor": 5
}
