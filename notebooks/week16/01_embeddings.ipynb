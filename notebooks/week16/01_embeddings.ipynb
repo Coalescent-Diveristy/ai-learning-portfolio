{
 "cells": [
  {
   "cell_type": "markdown",
   "id": "f99cb979",
   "metadata": {},
   "source": [
    "# Word Embeddings"
   ]
  },
  {
   "cell_type": "markdown",
   "id": "aec4325a",
   "metadata": {},
   "source": [
    "## Exercise 1\n",
    "Load GloVe embeddings and find word similarity."
   ]
  },
  {
   "cell_type": "code",
   "execution_count": null,
   "id": "d87e7ec3",
   "metadata": {},
   "outputs": [],
   "source": [
    "# Example with spaCy\n",
    "import spacy\n",
    "nlp = spacy.load('en_core_web_md')\n",
    "print(nlp('king').similarity(nlp('queen')))"
   ]
  }
 ],
 "metadata": {},
 "nbformat": 4,
 "nbformat_minor": 5
}
