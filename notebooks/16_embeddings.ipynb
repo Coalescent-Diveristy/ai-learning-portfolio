{
 "cells": [
  {
   "cell_type": "markdown",
   "id": "b28c67e7",
   "metadata": {},
   "source": [
    "# Word Embeddings"
   ]
  },
  {
   "cell_type": "markdown",
   "id": "01961f79",
   "metadata": {},
   "source": [
    "# Word Embeddings\n",
    "\n",
    "Word embeddings map words into vectors in a continuous space.  \n",
    "Similar words have similar embeddings.\n",
    "\n",
    "**Why it matters:**\n",
    "- Captures meaning better than one-hot encoding\n",
    "- Basis for modern NLP\n",
    "\n",
    "**Key ideas:**\n",
    "- Word2Vec, GloVe\n",
    "- Cosine similarity\n"
   ]
  },
  {
   "cell_type": "code",
   "execution_count": null,
   "id": "78daee12",
   "metadata": {},
   "outputs": [],
   "source": [
    "import gensim.downloader as api\n",
    "\n",
    "wv = api.load('glove-wiki-gigaword-50')\n",
    "print(wv.most_similar('king'))"
   ]
  },
  {
   "cell_type": "markdown",
   "id": "75deabd8",
   "metadata": {},
   "source": [
    "## Exercises\n",
    "\n",
    "Try these on your own:\n",
    "- Modify the example above\n",
    "- Add a new dataset or parameter\n",
    "- Visualize results\n"
   ]
  },
  {
   "cell_type": "code",
   "execution_count": null,
   "id": "320818bd",
   "metadata": {},
   "outputs": [],
   "source": [
    "# Your code here\n"
   ]
  }
 ],
 "metadata": {},
 "nbformat": 4,
 "nbformat_minor": 5
}
