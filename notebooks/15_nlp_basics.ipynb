{
 "cells": [
  {
   "cell_type": "markdown",
   "id": "07363d0d",
   "metadata": {},
   "source": [
    "# NLP Basics"
   ]
  },
  {
   "cell_type": "markdown",
   "id": "5311b02d",
   "metadata": {},
   "source": [
    "# NLP Basics\n",
    "\n",
    "Natural Language Processing (NLP) allows machines to understand text.  \n",
    "Preprocessing is crucial before training models.\n",
    "\n",
    "**Key steps:**\n",
    "- Tokenization\n",
    "- Stopword removal\n",
    "- Stemming and lemmatization\n",
    "\n",
    "**Why it matters:**\n",
    "Clean data → better models.\n"
   ]
  },
  {
   "cell_type": "code",
   "execution_count": null,
   "id": "aad78e8e",
   "metadata": {},
   "outputs": [],
   "source": [
    "import nltk\n",
    "from nltk.tokenize import word_tokenize\n",
    "nltk.download('punkt')\n",
    "\n",
    "text = \"AI is transforming the world.\"\n",
    "tokens = word_tokenize(text)\n",
    "print(tokens)"
   ]
  },
  {
   "cell_type": "markdown",
   "id": "ea0738e5",
   "metadata": {},
   "source": [
    "## Exercises\n",
    "\n",
    "Try these on your own:\n",
    "- Modify the example above\n",
    "- Add a new dataset or parameter\n",
    "- Visualize results\n"
   ]
  },
  {
   "cell_type": "code",
   "execution_count": null,
   "id": "acec44b2",
   "metadata": {},
   "outputs": [],
   "source": [
    "# Your code here\n"
   ]
  }
 ],
 "metadata": {},
 "nbformat": 4,
 "nbformat_minor": 5
}
