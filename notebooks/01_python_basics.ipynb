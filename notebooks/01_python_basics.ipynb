{
 "cells": [
  {
   "cell_type": "markdown",
   "id": "37df821d",
   "metadata": {},
   "source": [
    "# Python Basics"
   ]
  },
  {
   "cell_type": "markdown",
   "id": "9bfebbba",
   "metadata": {},
   "source": [
    "# Python Basics\n",
    "\n",
    "Python is the most popular programming language for AI and data science.\n",
    "It is simple, readable, and comes with powerful libraries.\n",
    "\n",
    "**Key concepts to learn:**\n",
    "- Variables and data types\n",
    "- Lists, dictionaries, sets, tuples\n",
    "- Loops (`for`, `while`)\n",
    "- Functions and scope\n",
    "- Basic error handling\n",
    "\n",
    "**Why it matters:**\n",
    "Before diving into AI, you must master the programming foundations.\n"
   ]
  },
  {
   "cell_type": "code",
   "execution_count": null,
   "id": "b6c02f2d",
   "metadata": {},
   "outputs": [],
   "source": [
    "# Example: simple function\n",
    "def greet(name):\n",
    "    return f\"Hello, {name}!\"\n",
    "\n",
    "print(greet(\"World\"))"
   ]
  },
  {
   "cell_type": "markdown",
   "id": "c6be22d8",
   "metadata": {},
   "source": [
    "## Exercises\n",
    "\n",
    "Try these on your own:\n",
    "- Modify the example above\n",
    "- Add a new dataset or parameter\n",
    "- Visualize results\n"
   ]
  },
  {
   "cell_type": "code",
   "execution_count": null,
   "id": "e37fac38",
   "metadata": {},
   "outputs": [],
   "source": [
    "# Your code here\n"
   ]
  }
 ],
 "metadata": {},
 "nbformat": 4,
 "nbformat_minor": 5
}
