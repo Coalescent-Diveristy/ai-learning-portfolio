{
 "cells": [
  {
   "cell_type": "markdown",
   "id": "ea84ee21",
   "metadata": {},
   "source": [
    "# Recurrent Neural Networks"
   ]
  },
  {
   "cell_type": "markdown",
   "id": "a4e715bf",
   "metadata": {},
   "source": [
    "## Exercise 1\n",
    "Build a simple RNN for sequence prediction."
   ]
  },
  {
   "cell_type": "code",
   "execution_count": null,
   "id": "186ad8cd",
   "metadata": {},
   "outputs": [],
   "source": [
    "from tensorflow.keras import layers, models\n",
    "model = models.Sequential([\n",
    "    layers.SimpleRNN(32,input_shape=(10,1)),\n",
    "    layers.Dense(1)\n",
    "])\n",
    "model.summary()"
   ]
  }
 ],
 "metadata": {},
 "nbformat": 4,
 "nbformat_minor": 5
}
