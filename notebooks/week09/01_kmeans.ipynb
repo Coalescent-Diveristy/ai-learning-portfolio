{
 "cells": [
  {
   "cell_type": "markdown",
   "id": "34559f97",
   "metadata": {},
   "source": [
    "# Clustering (K-Means)"
   ]
  },
  {
   "cell_type": "markdown",
   "id": "d6ce1eb3",
   "metadata": {},
   "source": [
    "## Exercise 1\n",
    "Cluster customers by age and spending score."
   ]
  },
  {
   "cell_type": "code",
   "execution_count": null,
   "id": "8da761ee",
   "metadata": {},
   "outputs": [],
   "source": [
    "from sklearn.cluster import KMeans\n",
    "import numpy as np\n",
    "X = np.array([[20,200],[30,400],[25,350],[40,800]])\n",
    "kmeans = KMeans(n_clusters=2, random_state=42).fit(X)\n",
    "print(kmeans.labels_)"
   ]
  }
 ],
 "metadata": {},
 "nbformat": 4,
 "nbformat_minor": 5
}
