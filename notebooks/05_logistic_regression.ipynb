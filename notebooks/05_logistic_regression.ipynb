{
 "cells": [
  {
   "cell_type": "markdown",
   "id": "282c5623",
   "metadata": {},
   "source": [
    "# Logistic Regression"
   ]
  },
  {
   "cell_type": "markdown",
   "id": "a54e6adc",
   "metadata": {},
   "source": [
    "# Logistic Regression\n",
    "\n",
    "Logistic Regression is used for **binary classification** tasks.  \n",
    "Instead of predicting a number, it predicts the probability of belonging to a class.\n",
    "\n",
    "**Why it matters:**\n",
    "- Used in spam detection, medical diagnosis, churn prediction\n",
    "- Outputs probabilities for interpretability\n",
    "\n",
    "**Key ideas:**\n",
    "- Uses the sigmoid function to squash values into [0,1]\n",
    "- Decision boundary typically at 0.5\n"
   ]
  },
  {
   "cell_type": "code",
   "execution_count": null,
   "id": "aa3695b0",
   "metadata": {},
   "outputs": [],
   "source": [
    "from sklearn.datasets import load_breast_cancer\n",
    "from sklearn.linear_model import LogisticRegression\n",
    "from sklearn.metrics import accuracy_score\n",
    "\n",
    "X,y = load_breast_cancer(return_X_y=True)\n",
    "model = LogisticRegression(max_iter=5000)\n",
    "model.fit(X,y)\n",
    "print(\"Accuracy:\", accuracy_score(y, model.predict(X)))"
   ]
  },
  {
   "cell_type": "markdown",
   "id": "0d5c4fd1",
   "metadata": {},
   "source": [
    "## Exercises\n",
    "\n",
    "Try these on your own:\n",
    "- Modify the example above\n",
    "- Add a new dataset or parameter\n",
    "- Visualize results\n"
   ]
  },
  {
   "cell_type": "code",
   "execution_count": null,
   "id": "aefd53bd",
   "metadata": {},
   "outputs": [],
   "source": [
    "# Your code here\n"
   ]
  }
 ],
 "metadata": {},
 "nbformat": 4,
 "nbformat_minor": 5
}
