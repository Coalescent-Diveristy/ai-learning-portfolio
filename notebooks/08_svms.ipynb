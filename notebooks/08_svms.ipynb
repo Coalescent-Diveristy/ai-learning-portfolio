{
 "cells": [
  {
   "cell_type": "markdown",
   "id": "18aa4c74",
   "metadata": {},
   "source": [
    "# Support Vector Machines"
   ]
  },
  {
   "cell_type": "markdown",
   "id": "1befd24b",
   "metadata": {},
   "source": [
    "# Support Vector Machines\n",
    "\n",
    "Support Vector Machines (SVMs) are powerful classifiers.  \n",
    "They find the **hyperplane** that best separates data into classes.\n",
    "\n",
    "**Why it matters:**\n",
    "- Effective in high-dimensional spaces\n",
    "- Can use kernels for non-linear boundaries\n",
    "\n",
    "**Key ideas:**\n",
    "- Margin: distance between hyperplane and closest points\n",
    "- Support vectors: critical data points defining the boundary\n"
   ]
  },
  {
   "cell_type": "code",
   "execution_count": null,
   "id": "37298639",
   "metadata": {},
   "outputs": [],
   "source": [
    "from sklearn.datasets import load_iris\n",
    "from sklearn.svm import SVC\n",
    "from sklearn.metrics import accuracy_score\n",
    "\n",
    "X,y = load_iris(return_X_y=True)\n",
    "model = SVC(kernel='linear')\n",
    "model.fit(X,y)\n",
    "print(\"Accuracy:\", accuracy_score(y, model.predict(X)))"
   ]
  },
  {
   "cell_type": "markdown",
   "id": "ff7812b5",
   "metadata": {},
   "source": [
    "## Exercises\n",
    "\n",
    "Try these on your own:\n",
    "- Modify the example above\n",
    "- Add a new dataset or parameter\n",
    "- Visualize results\n"
   ]
  },
  {
   "cell_type": "code",
   "execution_count": null,
   "id": "be862e38",
   "metadata": {},
   "outputs": [],
   "source": [
    "# Your code here\n"
   ]
  }
 ],
 "metadata": {},
 "nbformat": 4,
 "nbformat_minor": 5
}
