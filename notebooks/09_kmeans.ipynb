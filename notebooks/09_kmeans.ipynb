{
 "cells": [
  {
   "cell_type": "markdown",
   "id": "d7046d46",
   "metadata": {},
   "source": [
    "# K-Means Clustering"
   ]
  },
  {
   "cell_type": "markdown",
   "id": "c792fa7d",
   "metadata": {},
   "source": [
    "# K-Means Clustering\n",
    "\n",
    "K-Means is an **unsupervised learning algorithm** for grouping data.  \n",
    "It assigns each data point to one of K clusters.\n",
    "\n",
    "**Why it matters:**\n",
    "- Useful for market segmentation, image compression, anomaly detection\n",
    "\n",
    "**Key ideas:**\n",
    "- Choose K (number of clusters)\n",
    "- Randomly assign cluster centers\n",
    "- Iterate: assign points → update centers\n"
   ]
  },
  {
   "cell_type": "code",
   "execution_count": null,
   "id": "ef14aa57",
   "metadata": {},
   "outputs": [],
   "source": [
    "from sklearn.datasets import make_blobs\n",
    "from sklearn.cluster import KMeans\n",
    "import matplotlib.pyplot as plt\n",
    "\n",
    "X, _ = make_blobs(n_samples=100, centers=3, random_state=42)\n",
    "model = KMeans(n_clusters=3)\n",
    "labels = model.fit_predict(X)\n",
    "\n",
    "plt.scatter(X[:,0], X[:,1], c=labels)\n",
    "plt.show()"
   ]
  },
  {
   "cell_type": "markdown",
   "id": "49539a9e",
   "metadata": {},
   "source": [
    "## Exercises\n",
    "\n",
    "Try these on your own:\n",
    "- Modify the example above\n",
    "- Add a new dataset or parameter\n",
    "- Visualize results\n"
   ]
  },
  {
   "cell_type": "code",
   "execution_count": null,
   "id": "ef914d9b",
   "metadata": {},
   "outputs": [],
   "source": [
    "# Your code here\n"
   ]
  }
 ],
 "metadata": {},
 "nbformat": 4,
 "nbformat_minor": 5
}
