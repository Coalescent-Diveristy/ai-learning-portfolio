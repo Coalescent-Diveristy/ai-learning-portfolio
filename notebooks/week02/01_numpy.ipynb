{
 "cells": [
  {
   "cell_type": "markdown",
   "id": "bcf1b161",
   "metadata": {},
   "source": [
    "# NumPy Fundamentals"
   ]
  },
  {
   "cell_type": "markdown",
   "id": "e422c351",
   "metadata": {},
   "source": [
    "## Exercise 1\n",
    "Create a NumPy array of numbers 1–10."
   ]
  },
  {
   "cell_type": "code",
   "execution_count": null,
   "id": "d3db06c2",
   "metadata": {},
   "outputs": [],
   "source": [
    "import numpy as np\n",
    "arr = np.arange(1, 11)\n",
    "print(arr)"
   ]
  }
 ],
 "metadata": {},
 "nbformat": 4,
 "nbformat_minor": 5
}
