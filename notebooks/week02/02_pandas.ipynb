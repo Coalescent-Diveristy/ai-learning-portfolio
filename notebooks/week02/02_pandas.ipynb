{
 "cells": [
  {
   "cell_type": "markdown",
   "id": "e189933a",
   "metadata": {},
   "source": [
    "# Pandas for DataFrames"
   ]
  },
  {
   "cell_type": "markdown",
   "id": "db5fa544",
   "metadata": {},
   "source": [
    "## Exercise 1\n",
    "Load `customers.csv` into a pandas DataFrame."
   ]
  },
  {
   "cell_type": "code",
   "execution_count": null,
   "id": "28246e29",
   "metadata": {},
   "outputs": [],
   "source": [
    "import pandas as pd\n",
    "df = pd.read_csv('../datasets/customers.csv')\n",
    "df.head()"
   ]
  }
 ],
 "metadata": {},
 "nbformat": 4,
 "nbformat_minor": 5
}
