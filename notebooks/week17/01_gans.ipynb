{
 "cells": [
  {
   "cell_type": "markdown",
   "id": "4de212d2",
   "metadata": {},
   "source": [
    "# Generative Adversarial Networks"
   ]
  },
  {
   "cell_type": "markdown",
   "id": "f0f2c63d",
   "metadata": {},
   "source": [
    "## Exercise 1\n",
    "Build a simple GAN structure (no training)."
   ]
  },
  {
   "cell_type": "code",
   "execution_count": null,
   "id": "b7b7b581",
   "metadata": {},
   "outputs": [],
   "source": [
    "from tensorflow.keras import layers\n",
    "from tensorflow.keras.models import Sequential\n",
    "# Generator\n",
    "generator = Sequential([\n",
    "    layers.Dense(16, activation='relu', input_shape=(10,)),\n",
    "    layers.Dense(32, activation='relu'),\n",
    "    layers.Dense(64, activation='sigmoid')\n",
    "])\n",
    "generator.summary()"
   ]
  }
 ],
 "metadata": {},
 "nbformat": 4,
 "nbformat_minor": 5
}
