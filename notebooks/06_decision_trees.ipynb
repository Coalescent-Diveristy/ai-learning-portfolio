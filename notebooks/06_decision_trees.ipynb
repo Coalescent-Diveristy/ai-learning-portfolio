{
 "cells": [
  {
   "cell_type": "markdown",
   "id": "da61a21d",
   "metadata": {},
   "source": [
    "# Decision Trees"
   ]
  },
  {
   "cell_type": "markdown",
   "id": "e1e2bb33",
   "metadata": {},
   "source": [
    "# Decision Trees\n",
    "\n",
    "A Decision Tree is a model that splits data by asking questions.  \n",
    "Each split creates branches until reaching a decision (leaf).\n",
    "\n",
    "**Why it matters:**\n",
    "- Easy to interpret and visualize\n",
    "- Works for classification and regression\n",
    "- Basis for advanced models like Random Forests\n",
    "\n",
    "**Key ideas:**\n",
    "- Nodes split data by feature thresholds\n",
    "- Splitting criteria: Gini index, entropy, variance reduction\n"
   ]
  },
  {
   "cell_type": "code",
   "execution_count": null,
   "id": "3e51d539",
   "metadata": {},
   "outputs": [],
   "source": [
    "from sklearn.datasets import load_iris\n",
    "from sklearn.tree import DecisionTreeClassifier, plot_tree\n",
    "import matplotlib.pyplot as plt\n",
    "\n",
    "iris = load_iris()\n",
    "X,y = iris.data, iris.target\n",
    "model = DecisionTreeClassifier(max_depth=3)\n",
    "model.fit(X,y)\n",
    "\n",
    "plt.figure(figsize=(10,6))\n",
    "plot_tree(model, feature_names=iris.feature_names, class_names=iris.target_names, filled=True)\n",
    "plt.show()"
   ]
  },
  {
   "cell_type": "markdown",
   "id": "2c642e10",
   "metadata": {},
   "source": [
    "## Exercises\n",
    "\n",
    "Try these on your own:\n",
    "- Modify the example above\n",
    "- Add a new dataset or parameter\n",
    "- Visualize results\n"
   ]
  },
  {
   "cell_type": "code",
   "execution_count": null,
   "id": "dbd4836a",
   "metadata": {},
   "outputs": [],
   "source": [
    "# Your code here\n"
   ]
  }
 ],
 "metadata": {},
 "nbformat": 4,
 "nbformat_minor": 5
}
