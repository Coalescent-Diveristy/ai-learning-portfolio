{
 "cells": [
  {
   "cell_type": "markdown",
   "id": "dc218dc9",
   "metadata": {},
   "source": [
    "# Random Forests"
   ]
  },
  {
   "cell_type": "markdown",
   "id": "a2d53aca",
   "metadata": {},
   "source": [
    "# Random Forests\n",
    "\n",
    "A Random Forest is an **ensemble** of decision trees.  \n",
    "Each tree is trained on random subsets of data and features.\n",
    "\n",
    "**Why it matters:**\n",
    "- More accurate than a single decision tree\n",
    "- Reduces overfitting\n",
    "- Widely used in Kaggle competitions\n",
    "\n",
    "**Key ideas:**\n",
    "- Bagging: bootstrap aggregating\n",
    "- Majority voting for classification\n",
    "- Averaging for regression\n"
   ]
  },
  {
   "cell_type": "code",
   "execution_count": null,
   "id": "0e86d19e",
   "metadata": {},
   "outputs": [],
   "source": [
    "from sklearn.datasets import load_iris\n",
    "from sklearn.ensemble import RandomForestClassifier\n",
    "from sklearn.metrics import accuracy_score\n",
    "\n",
    "X,y = load_iris(return_X_y=True)\n",
    "model = RandomForestClassifier(n_estimators=50)\n",
    "model.fit(X,y)\n",
    "print(\"Accuracy:\", accuracy_score(y, model.predict(X)))"
   ]
  },
  {
   "cell_type": "markdown",
   "id": "78bd291c",
   "metadata": {},
   "source": [
    "## Exercises\n",
    "\n",
    "Try these on your own:\n",
    "- Modify the example above\n",
    "- Add a new dataset or parameter\n",
    "- Visualize results\n"
   ]
  },
  {
   "cell_type": "code",
   "execution_count": null,
   "id": "2bd62727",
   "metadata": {},
   "outputs": [],
   "source": [
    "# Your code here\n"
   ]
  }
 ],
 "metadata": {},
 "nbformat": 4,
 "nbformat_minor": 5
}
