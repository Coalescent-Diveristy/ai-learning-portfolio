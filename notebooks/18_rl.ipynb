{
 "cells": [
  {
   "cell_type": "markdown",
   "id": "62c3b4fe",
   "metadata": {},
   "source": [
    "# Reinforcement Learning"
   ]
  },
  {
   "cell_type": "markdown",
   "id": "950a9bb8",
   "metadata": {},
   "source": [
    "# Reinforcement Learning\n",
    "\n",
    "RL is about training an agent to interact with an environment.  \n",
    "The agent learns by receiving rewards or penalties.\n",
    "\n",
    "**Why it matters:**\n",
    "- Used in robotics, gaming (AlphaGo), resource optimization\n",
    "\n",
    "**Key ideas:**\n",
    "- State, action, reward\n",
    "- Exploration vs exploitation\n"
   ]
  },
  {
   "cell_type": "code",
   "execution_count": null,
   "id": "5e8f4f78",
   "metadata": {},
   "outputs": [],
   "source": [
    "import gym\n",
    "\n",
    "env = gym.make(\"CartPole-v1\")\n",
    "obs = env.reset()\n",
    "for _ in range(10):\n",
    "    action = env.action_space.sample()\n",
    "    obs, reward, done, _, _ = env.step(action)\n",
    "    if done:\n",
    "        obs = env.reset()\n",
    "env.close()"
   ]
  },
  {
   "cell_type": "markdown",
   "id": "a407f862",
   "metadata": {},
   "source": [
    "## Exercises\n",
    "\n",
    "Try these on your own:\n",
    "- Modify the example above\n",
    "- Add a new dataset or parameter\n",
    "- Visualize results\n"
   ]
  },
  {
   "cell_type": "code",
   "execution_count": null,
   "id": "123ab5a0",
   "metadata": {},
   "outputs": [],
   "source": [
    "# Your code here\n"
   ]
  }
 ],
 "metadata": {},
 "nbformat": 4,
 "nbformat_minor": 5
}
