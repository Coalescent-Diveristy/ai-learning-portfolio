{
 "cells": [
  {
   "cell_type": "markdown",
   "id": "19b8cd07",
   "metadata": {},
   "source": [
    "# Mini Project 1 - NLP Sentiment Analysis"
   ]
  },
  {
   "cell_type": "markdown",
   "id": "cbd5503e",
   "metadata": {},
   "source": [
    "## Task\n",
    "Build a sentiment analysis classifier using IMDb dataset."
   ]
  }
 ],
 "metadata": {},
 "nbformat": 4,
 "nbformat_minor": 5
}
