{
 "cells": [
  {
   "cell_type": "markdown",
   "id": "b48e8303",
   "metadata": {},
   "source": [
    "# Neural Networks"
   ]
  },
  {
   "cell_type": "markdown",
   "id": "f9508dc8",
   "metadata": {},
   "source": [
    "# Neural Networks\n",
    "\n",
    "Neural networks are inspired by the brain.  \n",
    "They consist of layers of neurons connected by weights.\n",
    "\n",
    "**Why it matters:**\n",
    "- Backbone of modern AI\n",
    "- Can approximate complex, non-linear relationships\n",
    "\n",
    "**Key ideas:**\n",
    "- Layers: input, hidden, output\n",
    "- Activation functions (ReLU, sigmoid, tanh)\n",
    "- Training with backpropagation\n"
   ]
  },
  {
   "cell_type": "code",
   "execution_count": null,
   "id": "438964ef",
   "metadata": {},
   "outputs": [],
   "source": [
    "from sklearn.neural_network import MLPClassifier\n",
    "from sklearn.datasets import load_digits\n",
    "from sklearn.model_selection import train_test_split\n",
    "from sklearn.metrics import accuracy_score\n",
    "\n",
    "X,y = load_digits(return_X_y=True)\n",
    "X_train,X_test,y_train,y_test = train_test_split(X,y,test_size=0.2)\n",
    "\n",
    "model = MLPClassifier(hidden_layer_sizes=(32,))\n",
    "model.fit(X_train,y_train)\n",
    "print(\"Accuracy:\", accuracy_score(y_test, model.predict(X_test)))"
   ]
  },
  {
   "cell_type": "markdown",
   "id": "0efbfda6",
   "metadata": {},
   "source": [
    "## Exercises\n",
    "\n",
    "Try these on your own:\n",
    "- Modify the example above\n",
    "- Add a new dataset or parameter\n",
    "- Visualize results\n"
   ]
  },
  {
   "cell_type": "code",
   "execution_count": null,
   "id": "a18bad0c",
   "metadata": {},
   "outputs": [],
   "source": [
    "# Your code here\n"
   ]
  }
 ],
 "metadata": {},
 "nbformat": 4,
 "nbformat_minor": 5
}
