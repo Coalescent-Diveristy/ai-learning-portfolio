{
 "cells": [
  {
   "cell_type": "markdown",
   "id": "69888143",
   "metadata": {},
   "source": [
    "# Linear Regression"
   ]
  },
  {
   "cell_type": "markdown",
   "id": "3685de8f",
   "metadata": {},
   "source": [
    "## Exercise 1\n",
    "Fit a simple linear regression model."
   ]
  },
  {
   "cell_type": "code",
   "execution_count": null,
   "id": "c367148a",
   "metadata": {},
   "outputs": [],
   "source": [
    "from sklearn.linear_model import LinearRegression\n",
    "import numpy as np\n",
    "X = np.array([[1],[2],[3],[4]])\n",
    "y = np.array([2,4,6,8])\n",
    "model = LinearRegression().fit(X,y)\n",
    "print(model.coef_, model.intercept_)"
   ]
  }
 ],
 "metadata": {},
 "nbformat": 4,
 "nbformat_minor": 5
}
