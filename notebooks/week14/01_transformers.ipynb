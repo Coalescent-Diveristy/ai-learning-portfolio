{
 "cells": [
  {
   "cell_type": "markdown",
   "id": "bfee7484",
   "metadata": {},
   "source": [
    "# Transformers"
   ]
  },
  {
   "cell_type": "markdown",
   "id": "ef8a9fde",
   "metadata": {},
   "source": [
    "## Exercise 1\n",
    "Load a pretrained transformer for text classification."
   ]
  },
  {
   "cell_type": "code",
   "execution_count": null,
   "id": "3f5d49e4",
   "metadata": {},
   "outputs": [],
   "source": [
    "from transformers import pipeline\n",
    "classifier = pipeline('sentiment-analysis')\n",
    "print(classifier('AI is amazing!'))"
   ]
  }
 ],
 "metadata": {},
 "nbformat": 4,
 "nbformat_minor": 5
}
