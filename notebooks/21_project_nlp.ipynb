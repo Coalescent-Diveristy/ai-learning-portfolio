{
 "cells": [
  {
   "cell_type": "markdown",
   "id": "d2bec173",
   "metadata": {},
   "source": [
    "# Mini NLP Project"
   ]
  },
  {
   "cell_type": "markdown",
   "id": "49b41e9f",
   "metadata": {},
   "source": [
    "# Mini NLP Project\n",
    "\n",
    "A focused NLP task: e.g., sentiment analysis or text classification.\n",
    "\n",
    "**Key steps:**\n",
    "- Data cleaning\n",
    "- Feature extraction\n",
    "- Model training & evaluation\n"
   ]
  },
  {
   "cell_type": "code",
   "execution_count": null,
   "id": "ed988abb",
   "metadata": {},
   "outputs": [],
   "source": [
    "from sklearn.datasets import fetch_20newsgroups\n",
    "from sklearn.feature_extraction.text import TfidfVectorizer\n",
    "from sklearn.naive_bayes import MultinomialNB\n",
    "from sklearn.pipeline import make_pipeline\n",
    "from sklearn.metrics import accuracy_score\n",
    "\n",
    "data = fetch_20newsgroups(subset=\"train\")\n",
    "X_train,y_train = data.data, data.target\n",
    "model = make_pipeline(TfidfVectorizer(), MultinomialNB())\n",
    "model.fit(X_train,y_train)\n",
    "\n",
    "test = fetch_20newsgroups(subset=\"test\")\n",
    "print(\"Accuracy:\", accuracy_score(test.target, model.predict(test.data)))"
   ]
  },
  {
   "cell_type": "markdown",
   "id": "ac2e1c04",
   "metadata": {},
   "source": [
    "## Exercises\n",
    "\n",
    "Try these on your own:\n",
    "- Modify the example above\n",
    "- Add a new dataset or parameter\n",
    "- Visualize results\n"
   ]
  },
  {
   "cell_type": "code",
   "execution_count": null,
   "id": "5104d9c2",
   "metadata": {},
   "outputs": [],
   "source": [
    "# Your code here\n"
   ]
  }
 ],
 "metadata": {},
 "nbformat": 4,
 "nbformat_minor": 5
}
