{
 "cells": [
  {
   "cell_type": "markdown",
   "id": "9741edc7",
   "metadata": {},
   "source": [
    "# LLM-Powered Applications\n",
    "\n",
    "Once you can access an LLM, you can integrate it into real applications.\n",
    "\n",
    "**Examples:**\n",
    "- Chatbots\n",
    "- Q&A systems\n",
    "- Summarizers\n",
    "- Assistants\n"
   ]
  },
  {
   "cell_type": "code",
   "execution_count": null,
   "id": "617b9251",
   "metadata": {},
   "outputs": [],
   "source": [
    "from langchain.llms import OpenAI\n",
    "from langchain.prompts import PromptTemplate\n",
    "import os\n",
    "\n",
    "# os.environ[\"OPENAI_API_KEY\"] = \"your-key\"\n",
    "\n",
    "llm = OpenAI(temperature=0.7)\n",
    "prompt = PromptTemplate(input_variables=[\"question\"], template=\"Answer as an AI tutor: {question}\")\n",
    "\n",
    "print(llm(prompt.format(question=\"What is overfitting in machine learning?\")))"
   ]
  },
  {
   "cell_type": "markdown",
   "id": "4e1a7f50",
   "metadata": {},
   "source": [
    "## Exercise: LLM-Powered Applications Practice\n",
    "\n",
    "- Apply LLM-Powered Applications to a dataset or task.\n",
    "- Experiment with parameters.\n",
    "- Visualize results.\n",
    "- Reflect on what you learned.\n"
   ]
  },
  {
   "cell_type": "code",
   "execution_count": null,
   "id": "f898765b",
   "metadata": {},
   "outputs": [],
   "source": [
    "# Your code here\n"
   ]
  }
 ],
 "metadata": {},
 "nbformat": 4,
 "nbformat_minor": 5
}
