{
 "cells": [
  {
   "cell_type": "markdown",
   "id": "2614854b",
   "metadata": {},
   "source": [
    "# Transformers"
   ]
  },
  {
   "cell_type": "markdown",
   "id": "d300b463",
   "metadata": {},
   "source": [
    "# Transformers\n",
    "\n",
    "Transformers revolutionized NLP by replacing recurrence with attention.  \n",
    "They focus on **relationships between all words in a sequence**.\n",
    "\n",
    "**Why it matters:**\n",
    "- Basis for GPT, BERT, and modern LLMs\n",
    "- Scales well to large datasets\n",
    "\n",
    "**Key ideas:**\n",
    "- Attention mechanism\n",
    "- Encoder-decoder structure\n",
    "- Positional embeddings\n"
   ]
  },
  {
   "cell_type": "code",
   "execution_count": null,
   "id": "266e1078",
   "metadata": {},
   "outputs": [],
   "source": [
    "from transformers import pipeline\n",
    "\n",
    "classifier = pipeline(\"sentiment-analysis\")\n",
    "print(classifier(\"Transformers are amazing for NLP!\"))"
   ]
  },
  {
   "cell_type": "markdown",
   "id": "0982263b",
   "metadata": {},
   "source": [
    "## Exercises\n",
    "\n",
    "Try these on your own:\n",
    "- Modify the example above\n",
    "- Add a new dataset or parameter\n",
    "- Visualize results\n"
   ]
  },
  {
   "cell_type": "code",
   "execution_count": null,
   "id": "d3f63399",
   "metadata": {},
   "outputs": [],
   "source": [
    "# Your code here\n"
   ]
  }
 ],
 "metadata": {},
 "nbformat": 4,
 "nbformat_minor": 5
}
