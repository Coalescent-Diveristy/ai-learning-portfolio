{
 "cells": [
  {
   "cell_type": "markdown",
   "id": "73f1188a",
   "metadata": {},
   "source": [
    "# Deploying AI Models"
   ]
  },
  {
   "cell_type": "markdown",
   "id": "aa246fb2",
   "metadata": {},
   "source": [
    "## Exercise 1\n",
    "Save and load a scikit-learn model with joblib."
   ]
  },
  {
   "cell_type": "code",
   "execution_count": null,
   "id": "2f1e93c4",
   "metadata": {},
   "outputs": [],
   "source": [
    "from sklearn.linear_model import LogisticRegression\n",
    "import joblib\n",
    "import numpy as np\n",
    "\n",
    "X = np.array([[1],[2],[3]])\n",
    "y = [0,1,1]\n",
    "clf = LogisticRegression().fit(X,y)\n",
    "\n",
    "joblib.dump(clf, 'model.pkl')\n",
    "loaded = joblib.load('model.pkl')\n",
    "print(loaded.predict([[2]]))"
   ]
  }
 ],
 "metadata": {},
 "nbformat": 4,
 "nbformat_minor": 5
}
