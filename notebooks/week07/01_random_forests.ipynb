{
 "cells": [
  {
   "cell_type": "markdown",
   "id": "6eebfbb5",
   "metadata": {},
   "source": [
    "# Random Forests"
   ]
  },
  {
   "cell_type": "markdown",
   "id": "4faa03f5",
   "metadata": {},
   "source": [
    "## Exercise 1\n",
    "Train a random forest classifier."
   ]
  },
  {
   "cell_type": "code",
   "execution_count": null,
   "id": "93d1c24f",
   "metadata": {},
   "outputs": [],
   "source": [
    "from sklearn.ensemble import RandomForestClassifier\n",
    "import numpy as np\n",
    "X = np.array([[0],[1],[2],[3]])\n",
    "y = np.array([0,0,1,1])\n",
    "clf = RandomForestClassifier().fit(X,y)\n",
    "print(clf.predict([[2]]))"
   ]
  }
 ],
 "metadata": {},
 "nbformat": 4,
 "nbformat_minor": 5
}
