{
 "cells": [
  {
   "cell_type": "markdown",
   "id": "77679925",
   "metadata": {},
   "source": [
    "# Using Pretrained LLMs\n",
    "\n",
    "Instead of training models from scratch, we can use pretrained LLMs from libraries like Hugging Face or APIs like OpenAI.\n",
    "\n",
    "**Benefits:**\n",
    "- Saves compute and time\n",
    "- Access to state-of-the-art models\n",
    "- Easy integration\n"
   ]
  },
  {
   "cell_type": "code",
   "execution_count": null,
   "id": "fe0a7d30",
   "metadata": {},
   "outputs": [],
   "source": [
    "from transformers import pipeline\n",
    "\n",
    "sentiment = pipeline(\"sentiment-analysis\")\n",
    "print(sentiment(\"I love learning AI with Jupyter notebooks!\"))"
   ]
  },
  {
   "cell_type": "markdown",
   "id": "e9a78272",
   "metadata": {},
   "source": [
    "## Exercise: Using Pretrained LLMs Practice\n",
    "\n",
    "- Apply Using Pretrained LLMs to a dataset or task.\n",
    "- Experiment with parameters.\n",
    "- Visualize results.\n",
    "- Reflect on what you learned.\n"
   ]
  },
  {
   "cell_type": "code",
   "execution_count": null,
   "id": "7507a547",
   "metadata": {},
   "outputs": [],
   "source": [
    "# Your code here\n"
   ]
  }
 ],
 "metadata": {},
 "nbformat": 4,
 "nbformat_minor": 5
}
