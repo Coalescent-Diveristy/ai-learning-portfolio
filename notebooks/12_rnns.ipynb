{
 "cells": [
  {
   "cell_type": "markdown",
   "id": "ac3ad13e",
   "metadata": {},
   "source": [
    "# Recurrent Neural Networks"
   ]
  },
  {
   "cell_type": "markdown",
   "id": "d0bfd729",
   "metadata": {},
   "source": [
    "# Recurrent Neural Networks\n",
    "\n",
    "RNNs are designed for **sequential data** like text, audio, or time series.  \n",
    "They maintain hidden states to capture past information.\n",
    "\n",
    "**Why it matters:**\n",
    "- Great for language modeling, speech recognition, stock prediction\n",
    "\n",
    "**Key ideas:**\n",
    "- Loops in architecture\n",
    "- Vanishing/exploding gradient problems\n",
    "- Works well for short sequences\n"
   ]
  },
  {
   "cell_type": "code",
   "execution_count": null,
   "id": "9111f577",
   "metadata": {},
   "outputs": [],
   "source": [
    "import tensorflow as tf\n",
    "from tensorflow.keras import layers, models\n",
    "import numpy as np\n",
    "\n",
    "X = np.random.random((100,10,1))\n",
    "y = np.random.randint(2, size=(100,1))\n",
    "\n",
    "model = models.Sequential([\n",
    "    layers.SimpleRNN(16, input_shape=(10,1)),\n",
    "    layers.Dense(1, activation='sigmoid')\n",
    "])\n",
    "model.compile(optimizer='adam', loss='binary_crossentropy', metrics=['accuracy'])\n",
    "model.fit(X,y,epochs=2)"
   ]
  },
  {
   "cell_type": "markdown",
   "id": "0a4395a7",
   "metadata": {},
   "source": [
    "## Exercises\n",
    "\n",
    "Try these on your own:\n",
    "- Modify the example above\n",
    "- Add a new dataset or parameter\n",
    "- Visualize results\n"
   ]
  },
  {
   "cell_type": "code",
   "execution_count": null,
   "id": "3c1bf459",
   "metadata": {},
   "outputs": [],
   "source": [
    "# Your code here\n"
   ]
  }
 ],
 "metadata": {},
 "nbformat": 4,
 "nbformat_minor": 5
}
