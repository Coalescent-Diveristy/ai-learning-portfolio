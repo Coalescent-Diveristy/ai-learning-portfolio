{
 "cells": [
  {
   "cell_type": "markdown",
   "id": "9074a20e",
   "metadata": {},
   "source": [
    "# Linear Regression"
   ]
  },
  {
   "cell_type": "markdown",
   "id": "6ed724dd",
   "metadata": {},
   "source": [
    "# Linear Regression\n",
    "\n",
    "Linear regression is one of the simplest machine learning models.  \n",
    "It models the relationship between input variables (X) and output variable (y) with a line.\n",
    "\n",
    "**Why it matters:**\n",
    "- Foundation of supervised learning\n",
    "- Used for predicting continuous values (e.g., house prices, sales)\n",
    "\n",
    "**Key ideas:**\n",
    "- Fit the \"best\" line through data points\n",
    "- Minimize squared errors between predictions and true values\n"
   ]
  },
  {
   "cell_type": "code",
   "execution_count": null,
   "id": "fcb85f01",
   "metadata": {},
   "outputs": [],
   "source": [
    "import numpy as np\n",
    "import matplotlib.pyplot as plt\n",
    "from sklearn.linear_model import LinearRegression\n",
    "\n",
    "X = np.array([[1],[2],[3],[4],[5]])\n",
    "y = np.array([1.2,1.9,3.2,3.9,5.1])\n",
    "\n",
    "model = LinearRegression()\n",
    "model.fit(X,y)\n",
    "plt.scatter(X,y)\n",
    "plt.plot(X, model.predict(X), color=\"red\")\n",
    "plt.show()"
   ]
  },
  {
   "cell_type": "markdown",
   "id": "dc9a2d8b",
   "metadata": {},
   "source": [
    "## Exercises\n",
    "\n",
    "Try these on your own:\n",
    "- Modify the example above\n",
    "- Add a new dataset or parameter\n",
    "- Visualize results\n"
   ]
  },
  {
   "cell_type": "code",
   "execution_count": null,
   "id": "5f4f9612",
   "metadata": {},
   "outputs": [],
   "source": [
    "# Your code here\n"
   ]
  }
 ],
 "metadata": {},
 "nbformat": 4,
 "nbformat_minor": 5
}
