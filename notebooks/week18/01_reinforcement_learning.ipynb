{
 "cells": [
  {
   "cell_type": "markdown",
   "id": "eea491e1",
   "metadata": {},
   "source": [
    "# Reinforcement Learning Basics"
   ]
  },
  {
   "cell_type": "markdown",
   "id": "299c26a5",
   "metadata": {},
   "source": [
    "## Exercise 1\n",
    "Run a simple OpenAI Gym environment."
   ]
  },
  {
   "cell_type": "code",
   "execution_count": null,
   "id": "f517c20a",
   "metadata": {},
   "outputs": [],
   "source": [
    "import gym\n",
    "env = gym.make('CartPole-v1')\n",
    "obs = env.reset()\n",
    "for _ in range(5):\n",
    "    action = env.action_space.sample()\n",
    "    obs, reward, done, info, _ = env.step(action)\n",
    "    if done:\n",
    "        obs = env.reset()\n",
    "print('Sample run complete.')"
   ]
  }
 ],
 "metadata": {},
 "nbformat": 4,
 "nbformat_minor": 5
}
