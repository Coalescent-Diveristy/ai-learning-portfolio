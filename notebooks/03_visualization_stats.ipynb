{
 "cells": [
  {
   "cell_type": "markdown",
   "id": "025e4b62",
   "metadata": {},
   "source": [
    "# Visualization & Statistics"
   ]
  },
  {
   "cell_type": "markdown",
   "id": "b5dc618b",
   "metadata": {},
   "source": [
    "# Visualization & Statistics\n",
    "\n",
    "Data visualization helps you **see patterns** and **communicate insights**.\n",
    "\n",
    "**Libraries:**\n",
    "- Matplotlib\n",
    "- Seaborn\n",
    "\n",
    "**Statistics basics:**\n",
    "- Mean, median, mode\n",
    "- Variance and standard deviation\n",
    "- Probability distributions\n",
    "\n",
    "**Why it matters:**\n",
    "Good analysis requires both visualization and statistical reasoning.\n"
   ]
  },
  {
   "cell_type": "code",
   "execution_count": null,
   "id": "e7b25dab",
   "metadata": {},
   "outputs": [],
   "source": [
    "import matplotlib.pyplot as plt\n",
    "import numpy as np\n",
    "\n",
    "data = np.random.normal(0, 1, 1000)\n",
    "plt.hist(data, bins=30)\n",
    "plt.title(\"Histogram\")\n",
    "plt.show()"
   ]
  },
  {
   "cell_type": "markdown",
   "id": "dd33bc75",
   "metadata": {},
   "source": [
    "## Exercises\n",
    "\n",
    "Try these on your own:\n",
    "- Modify the example above\n",
    "- Add a new dataset or parameter\n",
    "- Visualize results\n"
   ]
  },
  {
   "cell_type": "code",
   "execution_count": null,
   "id": "c25556cb",
   "metadata": {},
   "outputs": [],
   "source": [
    "# Your code here\n"
   ]
  }
 ],
 "metadata": {},
 "nbformat": 4,
 "nbformat_minor": 5
}
