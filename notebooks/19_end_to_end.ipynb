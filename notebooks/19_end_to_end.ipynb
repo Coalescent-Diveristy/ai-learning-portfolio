{
 "cells": [
  {
   "cell_type": "markdown",
   "id": "ad61b8af",
   "metadata": {},
   "source": [
    "# End-to-End ML Project"
   ]
  },
  {
   "cell_type": "markdown",
   "id": "6038d15b",
   "metadata": {},
   "source": [
    "# End-to-End ML Project\n",
    "\n",
    "Now it's time to integrate everything:\n",
    "- Data preprocessing\n",
    "- Feature engineering\n",
    "- Model training\n",
    "- Evaluation\n",
    "\n",
    "**Why it matters:**\n",
    "Real projects require putting all the steps together.\n"
   ]
  },
  {
   "cell_type": "code",
   "execution_count": null,
   "id": "0cc3a567",
   "metadata": {},
   "outputs": [],
   "source": [
    "from sklearn.datasets import load_boston\n",
    "from sklearn.model_selection import train_test_split\n",
    "from sklearn.ensemble import RandomForestRegressor\n",
    "from sklearn.metrics import mean_squared_error\n",
    "\n",
    "X,y = load_boston(return_X_y=True)\n",
    "X_train,X_test,y_train,y_test = train_test_split(X,y,test_size=0.2)\n",
    "model = RandomForestRegressor()\n",
    "model.fit(X_train,y_train)\n",
    "print(\"MSE:\", mean_squared_error(y_test, model.predict(X_test)))"
   ]
  },
  {
   "cell_type": "markdown",
   "id": "8d67358b",
   "metadata": {},
   "source": [
    "## Exercises\n",
    "\n",
    "Try these on your own:\n",
    "- Modify the example above\n",
    "- Add a new dataset or parameter\n",
    "- Visualize results\n"
   ]
  },
  {
   "cell_type": "code",
   "execution_count": null,
   "id": "309afea8",
   "metadata": {},
   "outputs": [],
   "source": [
    "# Your code here\n"
   ]
  }
 ],
 "metadata": {},
 "nbformat": 4,
 "nbformat_minor": 5
}
