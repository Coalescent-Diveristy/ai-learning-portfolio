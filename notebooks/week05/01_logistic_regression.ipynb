{
 "cells": [
  {
   "cell_type": "markdown",
   "id": "0ec73d37",
   "metadata": {},
   "source": [
    "# Logistic Regression"
   ]
  },
  {
   "cell_type": "markdown",
   "id": "95c6c772",
   "metadata": {},
   "source": [
    "## Exercise 1\n",
    "Train a logistic regression classifier."
   ]
  },
  {
   "cell_type": "code",
   "execution_count": null,
   "id": "41108792",
   "metadata": {},
   "outputs": [],
   "source": [
    "from sklearn.linear_model import LogisticRegression\n",
    "import numpy as np\n",
    "X = np.array([[0],[1],[2],[3]])\n",
    "y = np.array([0,0,1,1])\n",
    "clf = LogisticRegression().fit(X,y)\n",
    "print(clf.predict([[1.5],[2.5]]))"
   ]
  }
 ],
 "metadata": {},
 "nbformat": 4,
 "nbformat_minor": 5
}
